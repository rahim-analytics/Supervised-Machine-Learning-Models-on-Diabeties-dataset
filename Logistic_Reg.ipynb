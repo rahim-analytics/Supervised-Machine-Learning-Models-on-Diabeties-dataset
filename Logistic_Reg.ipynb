{
 "cells": [
  {
   "cell_type": "markdown",
   "id": "5508f50f",
   "metadata": {},
   "source": [
    "random forest, decision tree and support vector machine are the best models"
   ]
  },
  {
   "cell_type": "markdown",
   "id": "acf3357d",
   "metadata": {},
   "source": [
    "Diabtests"
   ]
  },
  {
   "cell_type": "markdown",
   "id": "3ac20fe9",
   "metadata": {},
   "source": [
    "Read Dataset"
   ]
  },
  {
   "cell_type": "code",
   "execution_count": 2,
   "id": "f83e1336",
   "metadata": {},
   "outputs": [
    {
     "name": "stderr",
     "output_type": "stream",
     "text": [
      "<>:4: SyntaxWarning: invalid escape sequence '\\d'\n",
      "<>:4: SyntaxWarning: invalid escape sequence '\\d'\n",
      "C:\\Users\\rahim\\AppData\\Local\\Temp\\ipykernel_22348\\2773786759.py:4: SyntaxWarning: invalid escape sequence '\\d'\n",
      "  file_path = \"D:\\diabetes.csv\"\n"
     ]
    },
    {
     "data": {
      "text/html": [
       "<div>\n",
       "<style scoped>\n",
       "    .dataframe tbody tr th:only-of-type {\n",
       "        vertical-align: middle;\n",
       "    }\n",
       "\n",
       "    .dataframe tbody tr th {\n",
       "        vertical-align: top;\n",
       "    }\n",
       "\n",
       "    .dataframe thead th {\n",
       "        text-align: right;\n",
       "    }\n",
       "</style>\n",
       "<table border=\"1\" class=\"dataframe\">\n",
       "  <thead>\n",
       "    <tr style=\"text-align: right;\">\n",
       "      <th></th>\n",
       "      <th>Pregnancies</th>\n",
       "      <th>Glucose</th>\n",
       "      <th>BloodPressure</th>\n",
       "      <th>SkinThickness</th>\n",
       "      <th>Insulin</th>\n",
       "      <th>BMI</th>\n",
       "      <th>DiabetesPedigreeFunction</th>\n",
       "      <th>Age</th>\n",
       "      <th>Outcome</th>\n",
       "    </tr>\n",
       "  </thead>\n",
       "  <tbody>\n",
       "    <tr>\n",
       "      <th>0</th>\n",
       "      <td>6</td>\n",
       "      <td>148</td>\n",
       "      <td>72</td>\n",
       "      <td>35</td>\n",
       "      <td>0</td>\n",
       "      <td>33.6</td>\n",
       "      <td>0.627</td>\n",
       "      <td>50</td>\n",
       "      <td>1</td>\n",
       "    </tr>\n",
       "    <tr>\n",
       "      <th>1</th>\n",
       "      <td>1</td>\n",
       "      <td>85</td>\n",
       "      <td>66</td>\n",
       "      <td>29</td>\n",
       "      <td>0</td>\n",
       "      <td>26.6</td>\n",
       "      <td>0.351</td>\n",
       "      <td>31</td>\n",
       "      <td>0</td>\n",
       "    </tr>\n",
       "    <tr>\n",
       "      <th>2</th>\n",
       "      <td>8</td>\n",
       "      <td>183</td>\n",
       "      <td>64</td>\n",
       "      <td>0</td>\n",
       "      <td>0</td>\n",
       "      <td>23.3</td>\n",
       "      <td>0.672</td>\n",
       "      <td>32</td>\n",
       "      <td>1</td>\n",
       "    </tr>\n",
       "    <tr>\n",
       "      <th>3</th>\n",
       "      <td>1</td>\n",
       "      <td>89</td>\n",
       "      <td>66</td>\n",
       "      <td>23</td>\n",
       "      <td>94</td>\n",
       "      <td>28.1</td>\n",
       "      <td>0.167</td>\n",
       "      <td>21</td>\n",
       "      <td>0</td>\n",
       "    </tr>\n",
       "    <tr>\n",
       "      <th>4</th>\n",
       "      <td>0</td>\n",
       "      <td>137</td>\n",
       "      <td>40</td>\n",
       "      <td>35</td>\n",
       "      <td>168</td>\n",
       "      <td>43.1</td>\n",
       "      <td>2.288</td>\n",
       "      <td>33</td>\n",
       "      <td>1</td>\n",
       "    </tr>\n",
       "  </tbody>\n",
       "</table>\n",
       "</div>"
      ],
      "text/plain": [
       "   Pregnancies  Glucose  BloodPressure  SkinThickness  Insulin   BMI  \\\n",
       "0            6      148             72             35        0  33.6   \n",
       "1            1       85             66             29        0  26.6   \n",
       "2            8      183             64              0        0  23.3   \n",
       "3            1       89             66             23       94  28.1   \n",
       "4            0      137             40             35      168  43.1   \n",
       "\n",
       "   DiabetesPedigreeFunction  Age  Outcome  \n",
       "0                     0.627   50        1  \n",
       "1                     0.351   31        0  \n",
       "2                     0.672   32        1  \n",
       "3                     0.167   21        0  \n",
       "4                     2.288   33        1  "
      ]
     },
     "execution_count": 2,
     "metadata": {},
     "output_type": "execute_result"
    }
   ],
   "source": [
    "import pandas as pd\n",
    "\n",
    "# Load the dataset\n",
    "file_path = \"D:\\diabetes.csv\"\n",
    "df = pd.read_csv(file_path)\n",
    "\n",
    "# Show the first few rows of the dataset to understand its structure\n",
    "df.head()"
   ]
  },
  {
   "cell_type": "markdown",
   "id": "5107f304",
   "metadata": {},
   "source": [
    "Logistic Regression"
   ]
  },
  {
   "cell_type": "code",
   "execution_count": 3,
   "id": "9dc80705",
   "metadata": {},
   "outputs": [
    {
     "data": {
      "text/plain": [
       "0.7467532467532467"
      ]
     },
     "execution_count": 3,
     "metadata": {},
     "output_type": "execute_result"
    }
   ],
   "source": [
    "from sklearn.model_selection import train_test_split\n",
    "from sklearn.linear_model import LogisticRegression\n",
    "from sklearn.metrics import accuracy_score\n",
    "\n",
    "# Separate features and target\n",
    "X = df.drop(\"Outcome\", axis=1)\n",
    "y = df[\"Outcome\"]\n",
    "\n",
    "# Split the dataset into training and testing sets (80% train, 20% test)\n",
    "X_train, X_test, y_train, y_test = train_test_split(X, y, test_size=0.2, random_state=42)\n",
    "\n",
    "# Initialize and train the logistic regression model\n",
    "model = LogisticRegression(max_iter=1000)\n",
    "model.fit(X_train, y_train)\n",
    "\n",
    "# Make predictions on the test set\n",
    "y_pred = model.predict(X_test)\n",
    "\n",
    "# Calculate accuracy\n",
    "accuracy = accuracy_score(y_test, y_pred)\n",
    "accuracy\n"
   ]
  },
  {
   "cell_type": "markdown",
   "id": "d54f4ca3",
   "metadata": {},
   "source": [
    "Ridge Regression"
   ]
  },
  {
   "cell_type": "code",
   "execution_count": 4,
   "id": "2f299b71",
   "metadata": {},
   "outputs": [
    {
     "data": {
      "text/plain": [
       "0.7597402597402597"
      ]
     },
     "execution_count": 4,
     "metadata": {},
     "output_type": "execute_result"
    }
   ],
   "source": [
    "from sklearn.linear_model import RidgeClassifier\n",
    "\n",
    "# Initialize and train Ridge Classifier\n",
    "ridge_model = RidgeClassifier()\n",
    "ridge_model.fit(X_train, y_train)\n",
    "\n",
    "# Predict and calculate accuracy\n",
    "ridge_pred = ridge_model.predict(X_test)\n",
    "ridge_accuracy = accuracy_score(y_test, ridge_pred)\n",
    "ridge_accuracy"
   ]
  },
  {
   "cell_type": "markdown",
   "id": "f314dbe5",
   "metadata": {},
   "source": [
    "Support Vector Machine Model "
   ]
  },
  {
   "cell_type": "code",
   "execution_count": 5,
   "id": "a2520d83",
   "metadata": {},
   "outputs": [
    {
     "data": {
      "text/plain": [
       "0.7792207792207793"
      ]
     },
     "execution_count": 5,
     "metadata": {},
     "output_type": "execute_result"
    }
   ],
   "source": [
    "\n",
    "from sklearn.svm import SVR\n",
    "import numpy as np\n",
    "\n",
    "# Initialize and train the SVR model\n",
    "svr_model = SVR()\n",
    "svr_model.fit(X_train, y_train)\n",
    "\n",
    "# Predict continuous values\n",
    "svr_pred_continuous = svr_model.predict(X_test)\n",
    "\n",
    "# Convert to binary predictions using a threshold of 0.5\n",
    "svr_pred_binary = (svr_pred_continuous >= 0.5).astype(int)\n",
    "\n",
    "# Calculate accuracy\n",
    "svr_accuracy = accuracy_score(y_test, svr_pred_binary)\n",
    "svr_accuracy"
   ]
  },
  {
   "cell_type": "markdown",
   "id": "4469f78d",
   "metadata": {},
   "source": [
    "Linear And Polynomial Regression"
   ]
  },
  {
   "cell_type": "code",
   "execution_count": 6,
   "id": "7f369680",
   "metadata": {},
   "outputs": [
    {
     "data": {
      "text/plain": [
       "(0.22120861711497564, 0.17880414402972492)"
      ]
     },
     "execution_count": 6,
     "metadata": {},
     "output_type": "execute_result"
    }
   ],
   "source": [
    "from sklearn.model_selection import train_test_split\n",
    "from sklearn.preprocessing import PolynomialFeatures\n",
    "from sklearn.linear_model import LinearRegression\n",
    "from sklearn.metrics import mean_squared_error, r2_score\n",
    "\n",
    "# Define features and target\n",
    "X = df.drop(columns=\"Outcome\")\n",
    "y = df[\"Outcome\"]\n",
    "\n",
    "# Split the dataset into train and test sets\n",
    "X_train, X_test, y_train, y_test = train_test_split(X, y, test_size=0.2, random_state=42)\n",
    "\n",
    "# Apply Polynomial Features transformation\n",
    "poly = PolynomialFeatures(degree=2)\n",
    "X_train_poly = poly.fit_transform(X_train)\n",
    "X_test_poly = poly.transform(X_test)\n",
    "\n",
    "# Fit the model\n",
    "model = LinearRegression()\n",
    "model.fit(X_train_poly, y_train)\n",
    "\n",
    "# Make predictions\n",
    "y_pred = model.predict(X_test_poly)\n",
    "\n",
    "# Calculate R2 score and MSE\n",
    "r2 = r2_score(y_test, y_pred)\n",
    "mse = mean_squared_error(y_test, y_pred)\n",
    "\n",
    "r2, mse"
   ]
  },
  {
   "cell_type": "markdown",
   "id": "0c0a7f7b",
   "metadata": {},
   "source": [
    "K Nearest Neighour Model "
   ]
  },
  {
   "cell_type": "code",
   "execution_count": 7,
   "id": "d03c1f87",
   "metadata": {},
   "outputs": [
    {
     "data": {
      "text/plain": [
       "(0.6948051948051948,\n",
       " '              precision    recall  f1-score   support\\n\\n           0       0.75      0.80      0.77        99\\n           1       0.58      0.51      0.54        55\\n\\n    accuracy                           0.69       154\\n   macro avg       0.66      0.65      0.66       154\\nweighted avg       0.69      0.69      0.69       154\\n')"
      ]
     },
     "execution_count": 7,
     "metadata": {},
     "output_type": "execute_result"
    }
   ],
   "source": [
    "from sklearn.model_selection import train_test_split\n",
    "# Perform train-test split\n",
    "X_train, X_test, y_train, y_test = train_test_split(X, y, test_size=0.2, random_state=42)\n",
    "\n",
    "X_train.shape, X_test.shape, y_train.shape, y_test.shape\n",
    "\n",
    "from sklearn.preprocessing import StandardScaler\n",
    "from sklearn.neighbors import KNeighborsClassifier\n",
    "from sklearn.metrics import accuracy_score, classification_report\n",
    "\n",
    "# Standardize features\n",
    "scaler = StandardScaler()\n",
    "X_train_scaled = scaler.fit_transform(X_train)\n",
    "X_test_scaled = scaler.transform(X_test)\n",
    "\n",
    "# Initialize and train KNN model\n",
    "knn = KNeighborsClassifier()\n",
    "knn.fit(X_train_scaled, y_train)\n",
    "\n",
    "# Predict on test data\n",
    "y_pred_knn = knn.predict(X_test_scaled)\n",
    "\n",
    "# Evaluate model\n",
    "knn_accuracy = accuracy_score(y_test, y_pred_knn)\n",
    "knn_report = classification_report(y_test, y_pred_knn, output_dict=False)\n",
    "\n",
    "knn_accuracy, knn_report"
   ]
  },
  {
   "cell_type": "markdown",
   "id": "10e673b8",
   "metadata": {},
   "source": [
    "Decision Tree Machine Learning Model "
   ]
  },
  {
   "cell_type": "code",
   "execution_count": 8,
   "id": "c4783f9c",
   "metadata": {},
   "outputs": [
    {
     "data": {
      "text/plain": [
       "(0.7467532467532467,\n",
       " {'0': {'precision': 0.8333333333333334,\n",
       "   'recall': 0.7575757575757576,\n",
       "   'f1-score': 0.7936507936507936,\n",
       "   'support': 99.0},\n",
       "  '1': {'precision': 0.625,\n",
       "   'recall': 0.7272727272727273,\n",
       "   'f1-score': 0.6722689075630253,\n",
       "   'support': 55.0},\n",
       "  'accuracy': 0.7467532467532467,\n",
       "  'macro avg': {'precision': 0.7291666666666667,\n",
       "   'recall': 0.7424242424242424,\n",
       "   'f1-score': 0.7329598506069095,\n",
       "   'support': 154.0},\n",
       "  'weighted avg': {'precision': 0.7589285714285714,\n",
       "   'recall': 0.7467532467532467,\n",
       "   'f1-score': 0.7503001200480192,\n",
       "   'support': 154.0}})"
      ]
     },
     "execution_count": 8,
     "metadata": {},
     "output_type": "execute_result"
    }
   ],
   "source": [
    "from sklearn.model_selection import train_test_split\n",
    "from sklearn.tree import DecisionTreeClassifier\n",
    "from sklearn.metrics import accuracy_score, classification_report\n",
    "\n",
    "# Split the data into features and target\n",
    "X = df.drop('Outcome', axis=1)\n",
    "y = df['Outcome']\n",
    "\n",
    "# Train-test split (80% training, 20% testing)\n",
    "X_train, X_test, y_train, y_test = train_test_split(X, y, test_size=0.2, random_state=42)\n",
    "\n",
    "# Initialize and train the Decision Tree model\n",
    "clf = DecisionTreeClassifier(random_state=42)\n",
    "clf.fit(X_train, y_train)\n",
    "\n",
    "# Make predictions on the test set\n",
    "y_pred = clf.predict(X_test)\n",
    "\n",
    "# Evaluate the model\n",
    "accuracy = accuracy_score(y_test, y_pred)\n",
    "report = classification_report(y_test, y_pred, output_dict=True)\n",
    "\n",
    "accuracy, report"
   ]
  },
  {
   "cell_type": "markdown",
   "id": "34cc5909",
   "metadata": {},
   "source": [
    "Random Forest "
   ]
  },
  {
   "cell_type": "code",
   "execution_count": 9,
   "id": "0c042935",
   "metadata": {},
   "outputs": [
    {
     "data": {
      "text/plain": [
       "(0.7207792207792207,\n",
       " {'0': {'precision': 0.7857142857142857,\n",
       "   'recall': 0.7777777777777778,\n",
       "   'f1-score': 0.7817258883248731,\n",
       "   'support': 99.0},\n",
       "  '1': {'precision': 0.6071428571428571,\n",
       "   'recall': 0.6181818181818182,\n",
       "   'f1-score': 0.6126126126126126,\n",
       "   'support': 55.0},\n",
       "  'accuracy': 0.7207792207792207,\n",
       "  'macro avg': {'precision': 0.6964285714285714,\n",
       "   'recall': 0.6979797979797979,\n",
       "   'f1-score': 0.6971692504687428,\n",
       "   'support': 154.0},\n",
       "  'weighted avg': {'precision': 0.721938775510204,\n",
       "   'recall': 0.7207792207792207,\n",
       "   'f1-score': 0.7213282898562086,\n",
       "   'support': 154.0}})"
      ]
     },
     "execution_count": 9,
     "metadata": {},
     "output_type": "execute_result"
    }
   ],
   "source": [
    "from sklearn.ensemble import RandomForestClassifier\n",
    "\n",
    "# Initialize and train the Random Forest model\n",
    "rf_clf = RandomForestClassifier(random_state=42)\n",
    "rf_clf.fit(X_train, y_train)\n",
    "\n",
    "# Make predictions on the test set\n",
    "rf_y_pred = rf_clf.predict(X_test)\n",
    "\n",
    "# Evaluate the Random Forest model\n",
    "rf_accuracy = accuracy_score(y_test, rf_y_pred)\n",
    "rf_report = classification_report(y_test, rf_y_pred, output_dict=True)\n",
    "\n",
    "rf_accuracy, rf_report"
   ]
  },
  {
   "cell_type": "code",
   "execution_count": null,
   "id": "8a4a0778",
   "metadata": {},
   "outputs": [],
   "source": []
  }
 ],
 "metadata": {
  "kernelspec": {
   "display_name": "Python 3",
   "language": "python",
   "name": "python3"
  },
  "language_info": {
   "codemirror_mode": {
    "name": "ipython",
    "version": 3
   },
   "file_extension": ".py",
   "mimetype": "text/x-python",
   "name": "python",
   "nbconvert_exporter": "python",
   "pygments_lexer": "ipython3",
   "version": "3.13.2"
  }
 },
 "nbformat": 4,
 "nbformat_minor": 5
}
